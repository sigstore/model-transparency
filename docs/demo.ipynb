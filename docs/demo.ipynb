{
  "nbformat": 4,
  "nbformat_minor": 0,
  "metadata": {
    "colab": {
      "provenance": [],
      "include_colab_link": true
    },
    "kernelspec": {
      "name": "python3",
      "display_name": "Python 3"
    },
    "language_info": {
      "name": "python"
    }
  },
  "cells": [
    {
      "cell_type": "markdown",
      "metadata": {
        "id": "view-in-github",
        "colab_type": "text"
      },
      "source": [
        "<a href=\"https://colab.research.google.com/github/mihaimaruseac/model-transparency/blob/main/Model_signing_with_%60model_signing%60_v1_0.ipynb\" target=\"_parent\"><img src=\"https://colab.research.google.com/assets/colab-badge.svg\" alt=\"Open In Colab\"/></a>"
      ]
    },
    {
      "cell_type": "markdown",
      "source": [
        "# Model signing with `model_signing`"
      ],
      "metadata": {
        "id": "1h_VBBxh2Vpx"
      }
    },
    {
      "cell_type": "markdown",
      "source": [
        "This notebook showscases the `model_signing` library, which can be used to sign and verify the integrity of ML models, regardless of size, or format.\n",
        "\n",
        "We provide both an API and a CLI. The API can be used to integrate the library with training pipelines, inference pipelines, model hub libraries, and ML frameworks. The CLI can be used for batch scripting or signing and validating the integrity of models on a case by case basis.\n",
        "\n",
        "Use the following table of contents to navigate through the notebook, or run the entire notebook at once:"
      ],
      "metadata": {
        "id": "7_U8sAzMyGtS"
      }
    },
    {
      "cell_type": "markdown",
      "source": [
        ">[Model signing with model_signing](#scrollTo=1h_VBBxh2Vpx)\n",
        "\n",
        ">>[Setup](#scrollTo=47cutIDjyu6U)\n",
        "\n",
        ">>>[Obtaining some models](#scrollTo=_gEUv3j_zIqy)\n",
        "\n",
        ">>[Model signing and verification using the CLI](#scrollTo=y2G3rDDv7T7e)\n",
        "\n",
        ">>>[Signing and verification with Sigstore](#scrollTo=k1mS5MdJDkRk)\n",
        "\n",
        ">>>[Signing and verification using key-based cryptography](#scrollTo=WWOqJzLpDv36)\n",
        "\n",
        ">>>[When integrity is compromised](#scrollTo=DSozctBbFZ6E)\n",
        "\n",
        ">>[Powerful integrations via the API](#scrollTo=0Yzsh29JHAEt)\n",
        "\n",
        ">>>[Signing and verification for a single model](#scrollTo=Jx15Q-yEHvay)\n",
        "\n",
        ">>>[Signing and verification with an explicit configuration](#scrollTo=85_wuHMXNjW-)\n",
        "\n",
        ">>>[Signing multiple models with the same configuration](#scrollTo=QDEOTIUxRkvq)\n",
        "\n"
      ],
      "metadata": {
        "colab_type": "toc",
        "id": "OC7hsVg48Qv8"
      }
    },
    {
      "cell_type": "markdown",
      "source": [
        "## Setup\n",
        "\n",
        "We first begin with a little bit of setup for setting up the Colab.\n",
        "\n",
        "First, we need to install the `jq` utility which we can use later to inspect the signature."
      ],
      "metadata": {
        "id": "47cutIDjyu6U"
      }
    },
    {
      "cell_type": "code",
      "execution_count": 1,
      "metadata": {
        "id": "ZarE559KtsoQ"
      },
      "outputs": [],
      "source": [
        "!apt-get install jq > /dev/null"
      ]
    },
    {
      "cell_type": "markdown",
      "source": [
        "Next, we install the `model_signing` library and other needed Python dependencies"
      ],
      "metadata": {
        "id": "2E-NQmDcy6bR"
      }
    },
    {
      "cell_type": "code",
      "source": [
        "!pip install model_signing"
      ],
      "metadata": {
        "colab": {
          "base_uri": "https://localhost:8080/"
        },
        "id": "DEshSibXzNrw",
        "outputId": "3f6c42d0-3ab7-45ec-e822-0b9d3723366f"
      },
      "execution_count": 2,
      "outputs": [
        {
          "output_type": "stream",
          "name": "stdout",
          "text": [
            "Collecting model_signing\n",
            "  Downloading model_signing-0.3.1-py3-none-any.whl.metadata (26 kB)\n",
            "Requirement already satisfied: click in /usr/local/lib/python3.11/dist-packages (from model_signing) (8.1.8)\n",
            "Requirement already satisfied: cryptography in /usr/local/lib/python3.11/dist-packages (from model_signing) (43.0.3)\n",
            "Collecting in-toto-attestation (from model_signing)\n",
            "  Downloading in_toto_attestation-0.9.3-py3-none-any.whl.metadata (2.6 kB)\n",
            "Collecting sigstore (from model_signing)\n",
            "  Downloading sigstore-3.6.1-py3-none-any.whl.metadata (15 kB)\n",
            "Requirement already satisfied: typing-extensions in /usr/local/lib/python3.11/dist-packages (from model_signing) (4.13.0)\n",
            "Requirement already satisfied: cffi>=1.12 in /usr/local/lib/python3.11/dist-packages (from cryptography->model_signing) (1.17.1)\n",
            "Requirement already satisfied: protobuf in /usr/local/lib/python3.11/dist-packages (from in-toto-attestation->model_signing) (5.29.4)\n",
            "Collecting id>=1.1.0 (from sigstore->model_signing)\n",
            "  Downloading id-1.5.0-py3-none-any.whl.metadata (5.2 kB)\n",
            "Requirement already satisfied: pyasn1~=0.6 in /usr/local/lib/python3.11/dist-packages (from sigstore->model_signing) (0.6.1)\n",
            "Requirement already satisfied: pydantic<3,>=2 in /usr/local/lib/python3.11/dist-packages (from sigstore->model_signing) (2.11.1)\n",
            "Requirement already satisfied: pyjwt>=2.1 in /usr/local/lib/python3.11/dist-packages (from sigstore->model_signing) (2.10.1)\n",
            "Requirement already satisfied: pyOpenSSL>=23.0.0 in /usr/local/lib/python3.11/dist-packages (from sigstore->model_signing) (24.2.1)\n",
            "Requirement already satisfied: requests in /usr/local/lib/python3.11/dist-packages (from sigstore->model_signing) (2.32.3)\n",
            "Requirement already satisfied: rich~=13.0 in /usr/local/lib/python3.11/dist-packages (from sigstore->model_signing) (13.9.4)\n",
            "Collecting rfc8785~=0.1.2 (from sigstore->model_signing)\n",
            "  Downloading rfc8785-0.1.4-py3-none-any.whl.metadata (3.4 kB)\n",
            "Collecting rfc3161-client~=0.1.2 (from sigstore->model_signing)\n",
            "  Downloading rfc3161_client-0.1.2-cp39-abi3-manylinux_2_17_x86_64.manylinux2014_x86_64.whl.metadata (3.0 kB)\n",
            "Collecting sigstore-protobuf-specs==0.3.2 (from sigstore->model_signing)\n",
            "  Downloading sigstore_protobuf_specs-0.3.2-py3-none-any.whl.metadata (1.4 kB)\n",
            "Collecting sigstore-rekor-types==0.0.18 (from sigstore->model_signing)\n",
            "  Downloading sigstore_rekor_types-0.0.18-py3-none-any.whl.metadata (13 kB)\n",
            "Collecting tuf~=5.0 (from sigstore->model_signing)\n",
            "  Downloading tuf-5.1.0-py3-none-any.whl.metadata (7.9 kB)\n",
            "Requirement already satisfied: platformdirs~=4.2 in /usr/local/lib/python3.11/dist-packages (from sigstore->model_signing) (4.3.7)\n",
            "Requirement already satisfied: betterproto==2.0.0b6 in /usr/local/lib/python3.11/dist-packages (from sigstore-protobuf-specs==0.3.2->sigstore->model_signing) (2.0.0b6)\n",
            "Requirement already satisfied: grpclib<0.5.0,>=0.4.1 in /usr/local/lib/python3.11/dist-packages (from betterproto==2.0.0b6->sigstore-protobuf-specs==0.3.2->sigstore->model_signing) (0.4.7)\n",
            "Requirement already satisfied: python-dateutil<3.0,>=2.8 in /usr/local/lib/python3.11/dist-packages (from betterproto==2.0.0b6->sigstore-protobuf-specs==0.3.2->sigstore->model_signing) (2.8.2)\n",
            "Requirement already satisfied: pycparser in /usr/local/lib/python3.11/dist-packages (from cffi>=1.12->cryptography->model_signing) (2.22)\n",
            "Requirement already satisfied: annotated-types>=0.6.0 in /usr/local/lib/python3.11/dist-packages (from pydantic<3,>=2->sigstore->model_signing) (0.7.0)\n",
            "Requirement already satisfied: pydantic-core==2.33.0 in /usr/local/lib/python3.11/dist-packages (from pydantic<3,>=2->sigstore->model_signing) (2.33.0)\n",
            "Requirement already satisfied: typing-inspection>=0.4.0 in /usr/local/lib/python3.11/dist-packages (from pydantic<3,>=2->sigstore->model_signing) (0.4.0)\n",
            "Requirement already satisfied: markdown-it-py>=2.2.0 in /usr/local/lib/python3.11/dist-packages (from rich~=13.0->sigstore->model_signing) (3.0.0)\n",
            "Requirement already satisfied: pygments<3.0.0,>=2.13.0 in /usr/local/lib/python3.11/dist-packages (from rich~=13.0->sigstore->model_signing) (2.18.0)\n",
            "Collecting securesystemslib~=1.0 (from tuf~=5.0->sigstore->model_signing)\n",
            "  Downloading securesystemslib-1.2.0-py3-none-any.whl.metadata (4.8 kB)\n",
            "Requirement already satisfied: charset-normalizer<4,>=2 in /usr/local/lib/python3.11/dist-packages (from requests->sigstore->model_signing) (3.4.1)\n",
            "Requirement already satisfied: idna<4,>=2.5 in /usr/local/lib/python3.11/dist-packages (from requests->sigstore->model_signing) (3.10)\n",
            "Requirement already satisfied: urllib3<3,>=1.21.1 in /usr/local/lib/python3.11/dist-packages (from requests->sigstore->model_signing) (2.3.0)\n",
            "Requirement already satisfied: certifi>=2017.4.17 in /usr/local/lib/python3.11/dist-packages (from requests->sigstore->model_signing) (2025.1.31)\n",
            "Requirement already satisfied: mdurl~=0.1 in /usr/local/lib/python3.11/dist-packages (from markdown-it-py>=2.2.0->rich~=13.0->sigstore->model_signing) (0.1.2)\n",
            "Collecting email-validator>=2.0.0 (from pydantic[email]<3,>=2->sigstore-rekor-types==0.0.18->sigstore->model_signing)\n",
            "  Downloading email_validator-2.2.0-py3-none-any.whl.metadata (25 kB)\n",
            "Collecting dnspython>=2.0.0 (from email-validator>=2.0.0->pydantic[email]<3,>=2->sigstore-rekor-types==0.0.18->sigstore->model_signing)\n",
            "  Downloading dnspython-2.7.0-py3-none-any.whl.metadata (5.8 kB)\n",
            "Requirement already satisfied: h2<5,>=3.1.0 in /usr/local/lib/python3.11/dist-packages (from grpclib<0.5.0,>=0.4.1->betterproto==2.0.0b6->sigstore-protobuf-specs==0.3.2->sigstore->model_signing) (4.2.0)\n",
            "Requirement already satisfied: multidict in /usr/local/lib/python3.11/dist-packages (from grpclib<0.5.0,>=0.4.1->betterproto==2.0.0b6->sigstore-protobuf-specs==0.3.2->sigstore->model_signing) (6.3.1)\n",
            "Requirement already satisfied: six>=1.5 in /usr/local/lib/python3.11/dist-packages (from python-dateutil<3.0,>=2.8->betterproto==2.0.0b6->sigstore-protobuf-specs==0.3.2->sigstore->model_signing) (1.17.0)\n",
            "Requirement already satisfied: hyperframe<7,>=6.1 in /usr/local/lib/python3.11/dist-packages (from h2<5,>=3.1.0->grpclib<0.5.0,>=0.4.1->betterproto==2.0.0b6->sigstore-protobuf-specs==0.3.2->sigstore->model_signing) (6.1.0)\n",
            "Requirement already satisfied: hpack<5,>=4.1 in /usr/local/lib/python3.11/dist-packages (from h2<5,>=3.1.0->grpclib<0.5.0,>=0.4.1->betterproto==2.0.0b6->sigstore-protobuf-specs==0.3.2->sigstore->model_signing) (4.1.0)\n",
            "Downloading model_signing-0.3.1-py3-none-any.whl (57 kB)\n",
            "\u001b[2K   \u001b[90m━━━━━━━━━━━━━━━━━━━━━━━━━━━━━━━━━━━━━━━━\u001b[0m \u001b[32m57.4/57.4 kB\u001b[0m \u001b[31m3.1 MB/s\u001b[0m eta \u001b[36m0:00:00\u001b[0m\n",
            "\u001b[?25hDownloading in_toto_attestation-0.9.3-py3-none-any.whl (13 kB)\n",
            "Downloading sigstore-3.6.1-py3-none-any.whl (99 kB)\n",
            "\u001b[2K   \u001b[90m━━━━━━━━━━━━━━━━━━━━━━━━━━━━━━━━━━━━━━━━\u001b[0m \u001b[32m99.2/99.2 kB\u001b[0m \u001b[31m7.1 MB/s\u001b[0m eta \u001b[36m0:00:00\u001b[0m\n",
            "\u001b[?25hDownloading sigstore_protobuf_specs-0.3.2-py3-none-any.whl (24 kB)\n",
            "Downloading sigstore_rekor_types-0.0.18-py3-none-any.whl (20 kB)\n",
            "Downloading id-1.5.0-py3-none-any.whl (13 kB)\n",
            "Downloading rfc3161_client-0.1.2-cp39-abi3-manylinux_2_17_x86_64.manylinux2014_x86_64.whl (2.1 MB)\n",
            "\u001b[2K   \u001b[90m━━━━━━━━━━━━━━━━━━━━━━━━━━━━━━━━━━━━━━━━\u001b[0m \u001b[32m2.1/2.1 MB\u001b[0m \u001b[31m38.0 MB/s\u001b[0m eta \u001b[36m0:00:00\u001b[0m\n",
            "\u001b[?25hDownloading rfc8785-0.1.4-py3-none-any.whl (9.2 kB)\n",
            "Downloading tuf-5.1.0-py3-none-any.whl (50 kB)\n",
            "\u001b[2K   \u001b[90m━━━━━━━━━━━━━━━━━━━━━━━━━━━━━━━━━━━━━━━━\u001b[0m \u001b[32m50.8/50.8 kB\u001b[0m \u001b[31m4.0 MB/s\u001b[0m eta \u001b[36m0:00:00\u001b[0m\n",
            "\u001b[?25hDownloading securesystemslib-1.2.0-py3-none-any.whl (870 kB)\n",
            "\u001b[2K   \u001b[90m━━━━━━━━━━━━━━━━━━━━━━━━━━━━━━━━━━━━━━━━\u001b[0m \u001b[32m870.8/870.8 kB\u001b[0m \u001b[31m50.6 MB/s\u001b[0m eta \u001b[36m0:00:00\u001b[0m\n",
            "\u001b[?25hDownloading email_validator-2.2.0-py3-none-any.whl (33 kB)\n",
            "Downloading dnspython-2.7.0-py3-none-any.whl (313 kB)\n",
            "\u001b[2K   \u001b[90m━━━━━━━━━━━━━━━━━━━━━━━━━━━━━━━━━━━━━━━━\u001b[0m \u001b[32m313.6/313.6 kB\u001b[0m \u001b[31m20.8 MB/s\u001b[0m eta \u001b[36m0:00:00\u001b[0m\n",
            "\u001b[?25hInstalling collected packages: securesystemslib, rfc8785, in-toto-attestation, dnspython, tuf, id, email-validator, rfc3161-client, sigstore-rekor-types, sigstore-protobuf-specs, sigstore, model_signing\n",
            "Successfully installed dnspython-2.7.0 email-validator-2.2.0 id-1.5.0 in-toto-attestation-0.9.3 model_signing-0.3.1 rfc3161-client-0.1.2 rfc8785-0.1.4 securesystemslib-1.2.0 sigstore-3.6.1 sigstore-protobuf-specs-0.3.2 sigstore-rekor-types-0.0.18 tuf-5.1.0\n"
          ]
        }
      ]
    },
    {
      "cell_type": "markdown",
      "source": [
        "### Obtaining some models\n",
        "\n",
        "To showcase the library, we will download a few models that we can use throughout the demo.\n",
        "\n",
        "First, to allow re-runing the notebook without restarting the kernel, we delete the models, in case they have been downloaded already."
      ],
      "metadata": {
        "id": "_gEUv3j_zIqy"
      }
    },
    {
      "cell_type": "code",
      "source": [
        "!rm -rf bert-base-uncased"
      ],
      "metadata": {
        "id": "s88C9XjNzt2y"
      },
      "execution_count": 3,
      "outputs": []
    },
    {
      "cell_type": "code",
      "source": [
        "!rm -rf finbert"
      ],
      "metadata": {
        "id": "in8D6UcC6bag"
      },
      "execution_count": 4,
      "outputs": []
    },
    {
      "cell_type": "code",
      "source": [
        "!rm -rf resnet-50"
      ],
      "metadata": {
        "id": "wsbOg9c_9_0z"
      },
      "execution_count": 5,
      "outputs": []
    },
    {
      "cell_type": "code",
      "source": [
        "!rm -rf vision-perceiver-learned"
      ],
      "metadata": {
        "id": "huSeeHjK_oGI"
      },
      "execution_count": 6,
      "outputs": []
    },
    {
      "cell_type": "markdown",
      "source": [
        "Next, we obtain the models from the internet."
      ],
      "metadata": {
        "id": "NfHzayyBzyOY"
      }
    },
    {
      "cell_type": "code",
      "source": [
        "!git clone --depth=1 \"https://huggingface.co/bert-base-uncased\""
      ],
      "metadata": {
        "colab": {
          "base_uri": "https://localhost:8080/"
        },
        "id": "qOKf7pqtz09_",
        "outputId": "17faf1b6-f245-4f90-a3ae-45f31ade11ff"
      },
      "execution_count": 7,
      "outputs": [
        {
          "output_type": "stream",
          "name": "stdout",
          "text": [
            "Cloning into 'bert-base-uncased'...\n",
            "remote: Enumerating objects: 24, done.\u001b[K\n",
            "remote: Counting objects: 100% (24/24), done.\u001b[K\n",
            "remote: Compressing objects: 100% (20/20), done.\u001b[K\n",
            "remote: Total 24 (delta 0), reused 24 (delta 0), pack-reused 0 (from 0)\u001b[K\n",
            "Unpacking objects: 100% (24/24), 324.36 KiB | 2.57 MiB/s, done.\n",
            "Filtering content: 100% (7/7), 3.21 GiB | 43.15 MiB/s, done.\n"
          ]
        }
      ]
    },
    {
      "cell_type": "code",
      "source": [
        "!git clone --depth=1 \"https://huggingface.co/ProsusAI/finbert\""
      ],
      "metadata": {
        "colab": {
          "base_uri": "https://localhost:8080/"
        },
        "id": "yZrSN05X6TXi",
        "outputId": "e519360f-ca23-4879-f9ff-26e088638b10"
      },
      "execution_count": 8,
      "outputs": [
        {
          "output_type": "stream",
          "name": "stdout",
          "text": [
            "Cloning into 'finbert'...\n",
            "remote: Enumerating objects: 11, done.\u001b[K\n",
            "remote: Counting objects: 100% (11/11), done.\u001b[K\n",
            "remote: Compressing objects: 100% (11/11), done.\u001b[K\n",
            "remote: Total 11 (delta 0), reused 10 (delta 0), pack-reused 0 (from 0)\u001b[K\n",
            "Unpacking objects: 100% (11/11), 110.48 KiB | 8.50 MiB/s, done.\n",
            "Filtering content: 100% (3/3), 1.22 GiB | 38.82 MiB/s, done.\n"
          ]
        }
      ]
    },
    {
      "cell_type": "code",
      "source": [
        "!git clone --depth=1 \"https://huggingface.co/microsoft/resnet-50\""
      ],
      "metadata": {
        "colab": {
          "base_uri": "https://localhost:8080/"
        },
        "id": "KdwcDp2i-EZR",
        "outputId": "1e186f2d-d1ac-4372-d604-ea9763115b96"
      },
      "execution_count": 9,
      "outputs": [
        {
          "output_type": "stream",
          "name": "stdout",
          "text": [
            "Cloning into 'resnet-50'...\n",
            "remote: Enumerating objects: 10, done.\u001b[K\n",
            "remote: Counting objects: 100% (10/10), done.\u001b[K\n",
            "remote: Compressing objects: 100% (10/10), done.\u001b[K\n",
            "remote: Total 10 (delta 0), reused 8 (delta 0), pack-reused 0 (from 0)\u001b[K\n",
            "Unpacking objects: 100% (10/10), 26.25 KiB | 5.25 MiB/s, done.\n",
            "Filtering content: 100% (4/4), 391.25 MiB | 47.12 MiB/s, done.\n"
          ]
        }
      ]
    },
    {
      "cell_type": "code",
      "source": [
        "!git clone --depth=1 \"https://huggingface.co/deepmind/vision-perceiver-learned\""
      ],
      "metadata": {
        "colab": {
          "base_uri": "https://localhost:8080/"
        },
        "id": "H5tPZqJl_kWX",
        "outputId": "86cee698-eec1-4de5-beca-a9a7c9e9d32d"
      },
      "execution_count": 10,
      "outputs": [
        {
          "output_type": "stream",
          "name": "stdout",
          "text": [
            "Cloning into 'vision-perceiver-learned'...\n",
            "remote: Enumerating objects: 7, done.\u001b[K\n",
            "remote: Counting objects: 100% (7/7), done.\u001b[K\n",
            "remote: Compressing objects: 100% (7/7), done.\u001b[K\n",
            "remote: Total 7 (delta 0), reused 4 (delta 0), pack-reused 0 (from 0)\u001b[K\n",
            "Unpacking objects: 100% (7/7), 26.88 KiB | 4.48 MiB/s, done.\n"
          ]
        }
      ]
    },
    {
      "cell_type": "markdown",
      "source": [
        "Since we used `git clone` to download the models, we also have the `.git` directory associated with the repository. This is a directory which should not exist in the signature, so we can delete it."
      ],
      "metadata": {
        "id": "fzWD0TO8z5Kn"
      }
    },
    {
      "cell_type": "code",
      "source": [
        "!rm -rf bert-base-uncased/.git"
      ],
      "metadata": {
        "id": "pMY6hMX_5-bw"
      },
      "execution_count": 11,
      "outputs": []
    },
    {
      "cell_type": "code",
      "source": [
        "!rm -rf finbert/.git"
      ],
      "metadata": {
        "id": "301gcUOM6dhw"
      },
      "execution_count": 12,
      "outputs": []
    },
    {
      "cell_type": "code",
      "source": [
        "!rm -rf resnet-50/.git"
      ],
      "metadata": {
        "id": "uaaxpUGU_rzE"
      },
      "execution_count": 13,
      "outputs": []
    },
    {
      "cell_type": "code",
      "source": [
        "# NOTE: We don't remove the git directory from here! (no !rm -rf vision-perceiver-learned/.git)"
      ],
      "metadata": {
        "id": "-9fs8xlq_tXk"
      },
      "execution_count": 14,
      "outputs": []
    },
    {
      "cell_type": "markdown",
      "source": [
        "Finally, we can compare the size of the downloaded models"
      ],
      "metadata": {
        "id": "EGj-57Nj6CsY"
      }
    },
    {
      "cell_type": "code",
      "source": [
        "!du -sh bert-base-uncased/ finbert/ resnet-50/ vision-perceiver-learned/"
      ],
      "metadata": {
        "colab": {
          "base_uri": "https://localhost:8080/"
        },
        "id": "zaSZpNQ86m9L",
        "outputId": "6032347e-1644-40bf-f98e-3ee699ee67ed"
      },
      "execution_count": 15,
      "outputs": [
        {
          "output_type": "stream",
          "name": "stdout",
          "text": [
            "3.3G\tbert-base-uncased/\n",
            "1.3G\tfinbert/\n",
            "392M\tresnet-50/\n",
            "476M\tvision-perceiver-learned/\n"
          ]
        }
      ]
    },
    {
      "cell_type": "markdown",
      "source": [
        "## Model signing and verification using the CLI\n",
        "\n",
        "We can now use the `model_signing` package to sign and verify the integrity of models. We will demonstrate both the CLI and the API in this section.\n",
        "\n",
        "First, let's use `model_signing` as a CLI tool to sign and check the integrity of models."
      ],
      "metadata": {
        "id": "y2G3rDDv7T7e"
      }
    },
    {
      "cell_type": "markdown",
      "source": [
        "### Signing and verification with Sigstore\n",
        "\n",
        " Let's sign the `bert-base-uncased` model and sign using the default arguments:"
      ],
      "metadata": {
        "id": "k1mS5MdJDkRk"
      }
    },
    {
      "cell_type": "code",
      "source": [
        "!model_signing sign bert-base-uncased"
      ],
      "metadata": {
        "colab": {
          "base_uri": "https://localhost:8080/"
        },
        "id": "f6XP7sgY71Sg",
        "outputId": "4599dbf2-1201-4ef1-b1e2-2e7e17480aa4"
      },
      "execution_count": 16,
      "outputs": [
        {
          "output_type": "stream",
          "name": "stdout",
          "text": [
            "Go to the following link in a browser:\n",
            "\n",
            "\thttps://oauth2.sigstore.dev/auth/auth?response_type=code&client_id=sigstore&client_secret=&scope=openid+email&redirect_uri=urn%3Aietf%3Awg%3Aoauth%3A2.0%3Aoob&code_challenge=wDOEEMzx0pD_baeCfdy-4saR9WnqnhZBi1SoucsEEkU&code_challenge_method=S256&state=d673f36f-206a-4dac-83e8-f5b7418f96ce&nonce=4001d993-5f2d-442d-a7a9-5d91f9224ac5\n",
            "Enter verification code: hf62wjslzawfbgpvwgn3ebbh3\n",
            "Signing succeeded\n"
          ]
        }
      ]
    },
    {
      "cell_type": "markdown",
      "source": [
        "During signing we were presented with an OIDC flow to obtain a token that represents the identity used during signing. The identity and the identity provider are arguments that we need to pass when we verify the signature."
      ],
      "metadata": {
        "id": "B8N-KKBy-Pvy"
      }
    },
    {
      "cell_type": "code",
      "source": [
        "identity = \"mihaimaruseac@google.com\" # @param {type:\"string\"}\n",
        "oidc_provider = \"https://github.com/login/oauth\" # @param {type:\"string\"}"
      ],
      "metadata": {
        "id": "zXAZ6K0JAiD4"
      },
      "execution_count": 17,
      "outputs": []
    },
    {
      "cell_type": "markdown",
      "source": [
        "By default, the signature is in `model.sig`. First, we can look at its size:"
      ],
      "metadata": {
        "id": "L2zQrDPnBDcu"
      }
    },
    {
      "cell_type": "code",
      "source": [
        "!ls -l model.sig"
      ],
      "metadata": {
        "id": "30qIzRIc-ho3",
        "colab": {
          "base_uri": "https://localhost:8080/"
        },
        "outputId": "4db0f9cd-101c-440a-ec15-bff4394312e9"
      },
      "execution_count": 18,
      "outputs": [
        {
          "output_type": "stream",
          "name": "stdout",
          "text": [
            "-rw-r--r-- 1 root root 9699 Apr  4 14:08 model.sig\n"
          ]
        }
      ]
    },
    {
      "cell_type": "markdown",
      "source": [
        "Next, before looking at the signature contents, let's try to also verify the model. Here we have to use the identity options used during signing:"
      ],
      "metadata": {
        "id": "-9VtRbu_-jJB"
      }
    },
    {
      "cell_type": "code",
      "source": [
        "!model_signing verify bert-base-uncased --signature model.sig --identity \"$identity\" --identity_provider \"$oidc_provider\""
      ],
      "metadata": {
        "id": "OlqS69MvA8wm",
        "colab": {
          "base_uri": "https://localhost:8080/"
        },
        "outputId": "db25a4ae-17b4-4117-b789-9825fc62e004"
      },
      "execution_count": 19,
      "outputs": [
        {
          "output_type": "stream",
          "name": "stdout",
          "text": [
            "Verification succeeded\n"
          ]
        }
      ]
    },
    {
      "cell_type": "markdown",
      "source": [
        "### Signing and verification using key-based cryptography\n",
        "\n",
        "The package also supports signing using traditional methods. We support signing with a private key (and verifying with the matching public key) or with a signing certificate. For this demo, let's try the example of a private key.\n",
        "\n",
        "We support a family of elliptic curve based keys, so let's generate a keypair:"
      ],
      "metadata": {
        "id": "WWOqJzLpDv36"
      }
    },
    {
      "cell_type": "code",
      "source": [
        "!openssl ecparam -name prime256v1 -genkey -noout -out key"
      ],
      "metadata": {
        "id": "LihWBiT2EI43"
      },
      "execution_count": 20,
      "outputs": []
    },
    {
      "cell_type": "markdown",
      "source": [
        "And the public key of the pair:"
      ],
      "metadata": {
        "id": "jxxw6d07ElRZ"
      }
    },
    {
      "cell_type": "code",
      "source": [
        "!openssl ec -in key -pubout > key.pub"
      ],
      "metadata": {
        "colab": {
          "base_uri": "https://localhost:8080/"
        },
        "id": "CHwDwmDAEgqE",
        "outputId": "6faab7bb-3f76-4da9-b1d3-6ddfab38fe54"
      },
      "execution_count": 21,
      "outputs": [
        {
          "output_type": "stream",
          "name": "stdout",
          "text": [
            "read EC key\n",
            "writing EC key\n"
          ]
        }
      ]
    },
    {
      "cell_type": "markdown",
      "source": [
        "Now we can sign a different model using the keys. We also save the signature in a different file."
      ],
      "metadata": {
        "id": "Uh74gkfEEpFC"
      }
    },
    {
      "cell_type": "code",
      "source": [
        "!model_signing sign key resnet-50 --private_key key --signature resnet.sig"
      ],
      "metadata": {
        "id": "4rXixw_SEotr",
        "colab": {
          "base_uri": "https://localhost:8080/"
        },
        "outputId": "1be371f8-80d2-4609-9e10-69be04d614dc"
      },
      "execution_count": 22,
      "outputs": [
        {
          "output_type": "stream",
          "name": "stdout",
          "text": [
            "Signing succeeded\n"
          ]
        }
      ]
    },
    {
      "cell_type": "markdown",
      "source": [
        "Signing succeeded, and we can look at the signature file:"
      ],
      "metadata": {
        "id": "vvk4jRMJFAPj"
      }
    },
    {
      "cell_type": "code",
      "source": [
        "!ls -l resnet.sig"
      ],
      "metadata": {
        "colab": {
          "base_uri": "https://localhost:8080/"
        },
        "id": "9aGufo-CFF3Q",
        "outputId": "21a08eb4-aec8-4e17-ab47-f95b48d4c6f5"
      },
      "execution_count": 23,
      "outputs": [
        {
          "output_type": "stream",
          "name": "stdout",
          "text": [
            "-rw-r--r-- 1 root root 2996 Apr  4 14:09 resnet.sig\n"
          ]
        }
      ]
    },
    {
      "cell_type": "markdown",
      "source": [
        "Next, we can verify the integrity of the model, using the paired public key:"
      ],
      "metadata": {
        "id": "2F8NpUG-FIrJ"
      }
    },
    {
      "cell_type": "code",
      "source": [
        "!model_signing verify key resnet-50 --signature resnet.sig --public_key key.pub"
      ],
      "metadata": {
        "colab": {
          "base_uri": "https://localhost:8080/"
        },
        "id": "IuQbYGm1FNIf",
        "outputId": "7b85549a-0e8a-4eb6-bfa4-b5b71f264acd"
      },
      "execution_count": 24,
      "outputs": [
        {
          "output_type": "stream",
          "name": "stdout",
          "text": [
            "Verification succeeded\n"
          ]
        }
      ]
    },
    {
      "cell_type": "markdown",
      "source": [
        "### When integrity is compromised\n",
        "\n",
        "To conclude, let's look at the behavior when the integrity cannot be verified. For this demo, we will \"mistakenly\" use the signature for one model to verify the integrity of the other."
      ],
      "metadata": {
        "id": "DSozctBbFZ6E"
      }
    },
    {
      "cell_type": "code",
      "source": [
        "!model_signing verify resnet-50 --signature model.sig --identity \"$identity\" --identity_provider \"$oidc_provider\""
      ],
      "metadata": {
        "colab": {
          "base_uri": "https://localhost:8080/"
        },
        "id": "4CAo7SyxF4MR",
        "outputId": "bc03574d-6755-4ae9-c312-3a7293833b7a"
      },
      "execution_count": 25,
      "outputs": [
        {
          "output_type": "stream",
          "name": "stdout",
          "text": [
            "Verification failed with error: Signature mismatch\n"
          ]
        }
      ]
    },
    {
      "cell_type": "markdown",
      "source": [
        "Here we see that verification failed with some error regarding manifests not matching. We will discuss what this means in a later section. For now, let's see what happens when the identity itself is wrong."
      ],
      "metadata": {
        "id": "SAMIJgUeF9mX"
      }
    },
    {
      "cell_type": "code",
      "source": [
        "!model_signing verify bert-base-uncased --signature model.sig --identity \"FAKE_IDENTITY\" --identity_provider \"$oidc_provider\""
      ],
      "metadata": {
        "colab": {
          "base_uri": "https://localhost:8080/"
        },
        "id": "xku3dw6WGT9S",
        "outputId": "bbc160db-dc1f-49e7-c34f-617605df78fd"
      },
      "execution_count": 26,
      "outputs": [
        {
          "output_type": "stream",
          "name": "stdout",
          "text": [
            "Verification failed with error: Certificate's SANs do not match FAKE_IDENTITY; actual SANs: {'mihaimaruseac@google.com'}\n"
          ]
        }
      ]
    },
    {
      "cell_type": "markdown",
      "source": [
        "The error message clearly specifies that we have passed the wrong identity.\n",
        "\n",
        "A similar error can occur when the identity provider is wrong:"
      ],
      "metadata": {
        "id": "FMh58_y6GeNh"
      }
    },
    {
      "cell_type": "code",
      "source": [
        "!model_signing verify bert-base-uncased --signature model.sig --identity \"$identity\" --identity_provider \"FAKE_PROVIDER\""
      ],
      "metadata": {
        "colab": {
          "base_uri": "https://localhost:8080/"
        },
        "id": "VO5aOEk1Gasw",
        "outputId": "38263047-f481-478b-a6ed-5ae6be164769"
      },
      "execution_count": 27,
      "outputs": [
        {
          "output_type": "stream",
          "name": "stdout",
          "text": [
            "Verification failed with error: Certificate's OIDCIssuer does not match (got 'https://github.com/login/oauth', expected 'FAKE_PROVIDER')\n"
          ]
        }
      ]
    },
    {
      "cell_type": "markdown",
      "source": [
        "Finally, we can look at what happens when a signature generated by one method is verified from another type of verification method:"
      ],
      "metadata": {
        "id": "CGJ47Uy1GitN"
      }
    },
    {
      "cell_type": "code",
      "source": [
        "!model_signing verify bert-base-uncased --signature resnet.sig --identity \"$identity\" --identity_provider \"$oidc_provider\""
      ],
      "metadata": {
        "colab": {
          "base_uri": "https://localhost:8080/"
        },
        "id": "5jVAajAYGwCq",
        "outputId": "24012d4f-5e93-4e9e-968a-ebaadd3c81b3"
      },
      "execution_count": 28,
      "outputs": [
        {
          "output_type": "stream",
          "name": "stdout",
          "text": [
            "Verification failed with error: error parsing asn1 value: ParseError { kind: ShortData { needed: 1 } }\n"
          ]
        }
      ]
    },
    {
      "cell_type": "markdown",
      "source": [
        "The signature cannot be parsed correctly, so nothing about it can be verified."
      ],
      "metadata": {
        "id": "x_R5kUFWG2F4"
      }
    },
    {
      "cell_type": "markdown",
      "source": [
        "## Powerful integrations via the API\n",
        "\n",
        "For more powerful integrations, we provide an API that can be used from any library. First, let's do some imports:"
      ],
      "metadata": {
        "id": "0Yzsh29JHAEt"
      }
    },
    {
      "cell_type": "code",
      "source": [
        "import model_signing"
      ],
      "metadata": {
        "id": "wEg5_JNfHNax"
      },
      "execution_count": 29,
      "outputs": []
    },
    {
      "cell_type": "markdown",
      "source": [
        "The API is split into 3 main components:\n",
        "\n",
        "- `model_signing.hashing`: responsible with generating a list of hashes for every component of the model. A component could be a file, a file shard, a tensor, etc., depending on the method used. We currently support only files and file shards. The result of hashing is a manifest, a listing of hashes for every object in the model.\n",
        "- `model_signing.signing`: responsible with taking the manifest and generating a signature, based on a signing configuration. The signing configuration can select the method used to sign as well as the parameters.\n",
        "- `model_signing.verifying`: responsible with taking a signature and verifying it. If the cryptographic parts of the signature can be validated, the verification layer would return an expanded manifest which can then be compared agains a manifest obtained from hashing the existing model. If the two manifest don't match then the model integrity was compromised and the `model_signing` package detected that.\n",
        "\n",
        "The first two of these components allows configurability but can also be used directly, with a default configuration. The only difference is for the verification component where we need to configure the verification method since there are no sensible defaults that can be used."
      ],
      "metadata": {
        "id": "n8aXqfKeH99C"
      }
    },
    {
      "cell_type": "markdown",
      "source": [
        "### Signing and verification for a single model"
      ],
      "metadata": {
        "id": "Jx15Q-yEHvay"
      }
    },
    {
      "cell_type": "markdown",
      "source": [
        "The default signing configuration hashes the model file by file and signs the manifest using Sigstore. Here, we sign the `finbert` model to generate the `finbert.sig` signature:"
      ],
      "metadata": {
        "id": "ccvZBpb8H4Zz"
      }
    },
    {
      "cell_type": "code",
      "source": [
        "model_signing.signing.sign(\"finbert\", \"finbert.sig\")"
      ],
      "metadata": {
        "colab": {
          "base_uri": "https://localhost:8080/"
        },
        "id": "000iX3aaHvFZ",
        "outputId": "c9ca32e2-15f0-4523-c6b2-4bb272d391e9"
      },
      "execution_count": 30,
      "outputs": [
        {
          "output_type": "stream",
          "name": "stderr",
          "text": [
            "Go to the following link in a browser:\n",
            "\n",
            "\thttps://oauth2.sigstore.dev/auth/auth?response_type=code&client_id=sigstore&client_secret=&scope=openid+email&redirect_uri=urn%3Aietf%3Awg%3Aoauth%3A2.0%3Aoob&code_challenge=lEaPFh1WKED2sAOzXPkKgQ1n4bZ8krf-SAJ-9XfQDAs&code_challenge_method=S256&state=79f5250c-e971-4363-b406-8943da68cc68&nonce=b94ab11c-589b-45bc-96eb-10709fa1948a\n"
          ]
        },
        {
          "name": "stdout",
          "output_type": "stream",
          "text": [
            "Enter verification code: g56bhq2rfjc5jsgxjxn3g5nay\n"
          ]
        }
      ]
    },
    {
      "cell_type": "markdown",
      "source": [
        "This does the OIDC flow again, so we need to pass the same parameters during verification."
      ],
      "metadata": {
        "id": "MCISjwAHMnZ2"
      }
    },
    {
      "cell_type": "code",
      "source": [
        "identity = \"mihaimaruseac@google.com\" # @param {type:\"string\"}\n",
        "oidc_provider = \"https://github.com/login/oauth\" # @param {type:\"string\"}"
      ],
      "metadata": {
        "id": "FWcZQB3xMuX3"
      },
      "execution_count": 31,
      "outputs": []
    },
    {
      "cell_type": "markdown",
      "source": [
        "For verification there is no default configuration"
      ],
      "metadata": {
        "id": "nY2hxSUjMvUP"
      }
    },
    {
      "cell_type": "code",
      "source": [
        "model_signing.verifying.Config().use_sigstore_verifier(\n",
        "    identity=identity,\n",
        "    oidc_issuer=oidc_provider,\n",
        ").verify(\"finbert\", \"finbert.sig\")"
      ],
      "metadata": {
        "id": "BGXXp3UmM3o6"
      },
      "execution_count": 32,
      "outputs": []
    },
    {
      "cell_type": "markdown",
      "source": [
        "Verification passed, as expected."
      ],
      "metadata": {
        "id": "Nnunz9I-NM_F"
      }
    },
    {
      "cell_type": "markdown",
      "source": [
        "### Signing and verification with an explicit configuration\n",
        "\n",
        "The API of `model_signing` allows us to explictly set configurations for hashing, signing and verifying. For this section we look at how these can be used to control what paths to be excluded during serialization, and to set-up signing using private keys.\n",
        "\n",
        "From the 4 models we downloaded, we did not delete the `.git` directory of `vision-perceiver-learn` model. Instead, we will use configuration to explictly exclude it. We can also exclude other files from the model:"
      ],
      "metadata": {
        "id": "85_wuHMXNjW-"
      }
    },
    {
      "cell_type": "code",
      "source": [
        "!ls -a vision-perceiver-learned/"
      ],
      "metadata": {
        "colab": {
          "base_uri": "https://localhost:8080/"
        },
        "id": "K2z5RuEWORpN",
        "outputId": "308033de-fa1f-49df-e370-dad589ade628"
      },
      "execution_count": 33,
      "outputs": [
        {
          "output_type": "stream",
          "name": "stdout",
          "text": [
            ".  ..  config.json  .git  .gitattributes  preprocessor_config.json  pytorch_model.bin  README.md\n"
          ]
        }
      ]
    },
    {
      "cell_type": "markdown",
      "source": [
        "First, we set up the hashing configuration, to exclude Git related files and the `README.md` file:"
      ],
      "metadata": {
        "id": "2rtjLLJLOUuF"
      }
    },
    {
      "cell_type": "code",
      "source": [
        "hashing_config = model_signing.hashing.Config().set_ignored_paths(\n",
        "    paths=[\"README.md\"], ignore_git_paths=True\n",
        ")"
      ],
      "metadata": {
        "id": "rPo6SZLLNMsk"
      },
      "execution_count": 34,
      "outputs": []
    },
    {
      "cell_type": "markdown",
      "source": [
        "Next, we configure a singing configuration to use the private key we generated above as well as the hashing configuration we just set up."
      ],
      "metadata": {
        "id": "sLa0sR95O4bW"
      }
    },
    {
      "cell_type": "code",
      "source": [
        "signing_config = model_signing.signing.Config().use_elliptic_key_signer(\n",
        "    private_key=\"key\"\n",
        ").set_hashing_config(hashing_config)"
      ],
      "metadata": {
        "id": "V916DJNaO8kK"
      },
      "execution_count": 35,
      "outputs": []
    },
    {
      "cell_type": "markdown",
      "source": [
        "And now, we can use this configuration to sign the model"
      ],
      "metadata": {
        "id": "My1iEvmePRvj"
      }
    },
    {
      "cell_type": "code",
      "source": [
        "signing_config.sign(\"vision-perceiver-learned\", \"vision-perceiver-learned.sig\")"
      ],
      "metadata": {
        "id": "37ym8uj0Q5kT"
      },
      "execution_count": 36,
      "outputs": []
    },
    {
      "cell_type": "markdown",
      "source": [
        "Similarly, we can construct the matching verification configuration and verify the signature:"
      ],
      "metadata": {
        "id": "zoQD3kiLQ9qd"
      }
    },
    {
      "cell_type": "code",
      "source": [
        "verification_config = model_signing.verifying.Config().use_elliptic_key_verifier(\n",
        "    public_key=\"key.pub\"\n",
        ").set_hashing_config(hashing_config)\n",
        "\n",
        "verification_config.verify(\"vision-perceiver-learned\", \"vision-perceiver-learned.sig\")"
      ],
      "metadata": {
        "id": "R27fSZ0pREjD"
      },
      "execution_count": 37,
      "outputs": []
    },
    {
      "cell_type": "markdown",
      "source": [
        "Verification passed."
      ],
      "metadata": {
        "id": "WCLa3pKsRh3h"
      }
    },
    {
      "cell_type": "markdown",
      "source": [
        "### Signing multiple models with the same configuration\n",
        "\n",
        "The power of explicit configurations is that a pipeline could set the configurations for hashing and signing once and then sign multiple models:"
      ],
      "metadata": {
        "id": "QDEOTIUxRkvq"
      }
    },
    {
      "cell_type": "code",
      "source": [
        "config = model_signing.signing.Config().set_hashing_config(\n",
        "    model_signing.hashing.Config().use_shard_serialization()\n",
        ").use_elliptic_key_signer(private_key=\"key\")"
      ],
      "metadata": {
        "id": "jEhy2i2kR4xZ"
      },
      "execution_count": 40,
      "outputs": []
    },
    {
      "cell_type": "markdown",
      "source": [
        "Here we set up a hashing configuration to use file shards, and a signing configuration to sign using private keys. We can now use this configuration to sign all the models in a loop:"
      ],
      "metadata": {
        "id": "kjksFpeESHsx"
      }
    },
    {
      "cell_type": "code",
      "source": [
        "all_models = [\"bert-base-uncased\", \"finbert\", \"resnet-50\", \"vision-perceiver-learned\"]\n",
        "for model in all_models:\n",
        "    config.sign(model, f\"{model}_sharded.sig\")"
      ],
      "metadata": {
        "id": "cRnu1j4xSD90"
      },
      "execution_count": 41,
      "outputs": []
    }
  ]
}
