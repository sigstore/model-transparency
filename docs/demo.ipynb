{
  "cells": [
    {
      "cell_type": "markdown",
      "metadata": {
        "id": "view-in-github",
        "colab_type": "text"
      },
      "source": [
        "<a href=\"https://colab.research.google.com/github/mihaimaruseac/model-transparency/blob/main/Model_signing_with_%60model_signing%60_v1_0.ipynb\" target=\"_parent\"><img src=\"https://colab.research.google.com/assets/colab-badge.svg\" alt=\"Open In Colab\"/></a>"
      ]
    },
    {
      "cell_type": "markdown",
      "metadata": {
        "id": "1h_VBBxh2Vpx"
      },
      "source": [
        "# Model signing with `model_signing`"
      ]
    },
    {
      "cell_type": "markdown",
      "metadata": {
        "id": "7_U8sAzMyGtS"
      },
      "source": [
        "This notebook showscases the `model_signing` library, which can be used to sign and verify the integrity of ML models, regardless of size, or format.\n",
        "\n",
        "We provide both an API and a CLI. The API can be used to integrate the library with training pipelines, inference pipelines, model hub libraries, and ML frameworks. The CLI can be used for batch scripting or signing and validating the integrity of models on a case by case basis.\n",
        "\n",
        "Use the following table of contents to navigate through the notebook, or run the entire notebook at once:"
      ]
    },
    {
      "cell_type": "markdown",
      "metadata": {
        "colab_type": "toc",
        "id": "OC7hsVg48Qv8"
      },
      "source": [
        ">[Model signing with model_signing](#scrollTo=1h_VBBxh2Vpx)\n",
        "\n",
        ">>[Setup](#scrollTo=47cutIDjyu6U)\n",
        "\n",
        ">>>[Obtaining some models](#scrollTo=_gEUv3j_zIqy)\n",
        "\n",
        ">>[Model signing and verification using the CLI](#scrollTo=y2G3rDDv7T7e)\n",
        "\n",
        ">>>[Signing and verification with Sigstore](#scrollTo=k1mS5MdJDkRk)\n",
        "\n",
        ">>>[Signing and verification using key-based cryptography](#scrollTo=WWOqJzLpDv36)\n",
        "\n",
        ">>>[When integrity is compromised](#scrollTo=DSozctBbFZ6E)\n",
        "\n",
        ">>[Powerful integrations via the API](#scrollTo=0Yzsh29JHAEt)\n",
        "\n",
        ">>>[Signing and verification for a single model](#scrollTo=Jx15Q-yEHvay)\n",
        "\n",
        ">>>[Signing and verification with an explicit configuration](#scrollTo=85_wuHMXNjW-)\n",
        "\n",
        ">>>[Signing multiple models with the same configuration](#scrollTo=QDEOTIUxRkvq)\n",
        "\n"
      ]
    },
    {
      "cell_type": "markdown",
      "metadata": {
        "id": "47cutIDjyu6U"
      },
      "source": [
        "## Setup\n",
        "\n",
        "We first begin with a little bit of setup for setting up the Colab.\n",
        "\n",
        "First, we need to install the `jq` utility which we can use later to inspect the signature."
      ]
    },
    {
      "cell_type": "code",
      "execution_count": 1,
      "metadata": {
        "id": "ZarE559KtsoQ"
      },
      "outputs": [],
      "source": [
        "!apt-get install jq > /dev/null"
      ]
    },
    {
      "cell_type": "markdown",
      "metadata": {
        "id": "2E-NQmDcy6bR"
      },
      "source": [
        "Next, we install the `model_signing` library and other needed Python dependencies"
      ]
    },
    {
      "cell_type": "code",
      "execution_count": 2,
      "metadata": {
        "colab": {
          "base_uri": "https://localhost:8080/"
        },
        "id": "DEshSibXzNrw",
        "outputId": "2ce6cc57-32b2-4b9e-b2ba-f263b5ff119d"
      },
      "outputs": [
        {
          "output_type": "stream",
          "name": "stdout",
          "text": [
            "Collecting model_signing\n",
            "  Downloading model_signing-1.1.1-py3-none-any.whl.metadata (17 kB)\n",
            "Collecting asn1crypto (from model_signing)\n",
            "  Downloading asn1crypto-1.5.1-py2.py3-none-any.whl.metadata (13 kB)\n",
            "Collecting blake3 (from model_signing)\n",
            "  Downloading blake3-1.0.7-cp312-cp312-manylinux_2_17_x86_64.manylinux2014_x86_64.whl.metadata (217 bytes)\n",
            "Requirement already satisfied: click in /usr/local/lib/python3.12/dist-packages (from model_signing) (8.3.0)\n",
            "Requirement already satisfied: cryptography in /usr/local/lib/python3.12/dist-packages (from model_signing) (43.0.3)\n",
            "Collecting in-toto-attestation (from model_signing)\n",
            "  Downloading in_toto_attestation-0.9.3-py3-none-any.whl.metadata (2.6 kB)\n",
            "Collecting sigstore-models>=0.0.5 (from model_signing)\n",
            "  Downloading sigstore_models-0.0.5-py3-none-any.whl.metadata (1.3 kB)\n",
            "Collecting sigstore>=4.0 (from model_signing)\n",
            "  Downloading sigstore-4.0.0-py3-none-any.whl.metadata (16 kB)\n",
            "Requirement already satisfied: typing-extensions in /usr/local/lib/python3.12/dist-packages (from model_signing) (4.15.0)\n",
            "Collecting id>=1.1.0 (from sigstore>=4.0->model_signing)\n",
            "  Downloading id-1.5.0-py3-none-any.whl.metadata (5.2 kB)\n",
            "Requirement already satisfied: pyasn1~=0.6 in /usr/local/lib/python3.12/dist-packages (from sigstore>=4.0->model_signing) (0.6.1)\n",
            "Requirement already satisfied: pydantic<3,>=2 in /usr/local/lib/python3.12/dist-packages (from sigstore>=4.0->model_signing) (2.11.10)\n",
            "Requirement already satisfied: pyjwt>=2.1 in /usr/local/lib/python3.12/dist-packages (from sigstore>=4.0->model_signing) (2.10.1)\n",
            "Requirement already satisfied: pyOpenSSL>=23.0.0 in /usr/local/lib/python3.12/dist-packages (from sigstore>=4.0->model_signing) (24.2.1)\n",
            "Requirement already satisfied: requests in /usr/local/lib/python3.12/dist-packages (from sigstore>=4.0->model_signing) (2.32.4)\n",
            "Requirement already satisfied: rich<15,>=13 in /usr/local/lib/python3.12/dist-packages (from sigstore>=4.0->model_signing) (13.9.4)\n",
            "Collecting rfc8785~=0.1.2 (from sigstore>=4.0->model_signing)\n",
            "  Downloading rfc8785-0.1.4-py3-none-any.whl.metadata (3.4 kB)\n",
            "Collecting rfc3161-client<1.1.0,>=1.0.3 (from sigstore>=4.0->model_signing)\n",
            "  Downloading rfc3161_client-1.0.5-cp39-abi3-manylinux_2_17_x86_64.manylinux2014_x86_64.whl.metadata (5.6 kB)\n",
            "Collecting sigstore-rekor-types==0.0.18 (from sigstore>=4.0->model_signing)\n",
            "  Downloading sigstore_rekor_types-0.0.18-py3-none-any.whl.metadata (13 kB)\n",
            "Collecting tuf~=6.0 (from sigstore>=4.0->model_signing)\n",
            "  Downloading tuf-6.0.0-py3-none-any.whl.metadata (8.1 kB)\n",
            "Requirement already satisfied: platformdirs~=4.2 in /usr/local/lib/python3.12/dist-packages (from sigstore>=4.0->model_signing) (4.5.0)\n",
            "Requirement already satisfied: cffi>=1.12 in /usr/local/lib/python3.12/dist-packages (from cryptography->model_signing) (2.0.0)\n",
            "Requirement already satisfied: protobuf in /usr/local/lib/python3.12/dist-packages (from in-toto-attestation->model_signing) (5.29.5)\n",
            "Requirement already satisfied: pycparser in /usr/local/lib/python3.12/dist-packages (from cffi>=1.12->cryptography->model_signing) (2.23)\n",
            "Requirement already satisfied: annotated-types>=0.6.0 in /usr/local/lib/python3.12/dist-packages (from pydantic<3,>=2->sigstore>=4.0->model_signing) (0.7.0)\n",
            "Requirement already satisfied: pydantic-core==2.33.2 in /usr/local/lib/python3.12/dist-packages (from pydantic<3,>=2->sigstore>=4.0->model_signing) (2.33.2)\n",
            "Requirement already satisfied: typing-inspection>=0.4.0 in /usr/local/lib/python3.12/dist-packages (from pydantic<3,>=2->sigstore>=4.0->model_signing) (0.4.2)\n",
            "Requirement already satisfied: markdown-it-py>=2.2.0 in /usr/local/lib/python3.12/dist-packages (from rich<15,>=13->sigstore>=4.0->model_signing) (4.0.0)\n",
            "Requirement already satisfied: pygments<3.0.0,>=2.13.0 in /usr/local/lib/python3.12/dist-packages (from rich<15,>=13->sigstore>=4.0->model_signing) (2.19.2)\n",
            "Collecting securesystemslib~=1.0 (from tuf~=6.0->sigstore>=4.0->model_signing)\n",
            "  Downloading securesystemslib-1.3.1-py3-none-any.whl.metadata (4.8 kB)\n",
            "Requirement already satisfied: urllib3<3,>=1.21.1 in /usr/local/lib/python3.12/dist-packages (from tuf~=6.0->sigstore>=4.0->model_signing) (2.5.0)\n",
            "Requirement already satisfied: charset_normalizer<4,>=2 in /usr/local/lib/python3.12/dist-packages (from requests->sigstore>=4.0->model_signing) (3.4.3)\n",
            "Requirement already satisfied: idna<4,>=2.5 in /usr/local/lib/python3.12/dist-packages (from requests->sigstore>=4.0->model_signing) (3.10)\n",
            "Requirement already satisfied: certifi>=2017.4.17 in /usr/local/lib/python3.12/dist-packages (from requests->sigstore>=4.0->model_signing) (2025.10.5)\n",
            "Requirement already satisfied: mdurl~=0.1 in /usr/local/lib/python3.12/dist-packages (from markdown-it-py>=2.2.0->rich<15,>=13->sigstore>=4.0->model_signing) (0.1.2)\n",
            "Collecting email-validator>=2.0.0 (from pydantic[email]<3,>=2->sigstore-rekor-types==0.0.18->sigstore>=4.0->model_signing)\n",
            "  Downloading email_validator-2.3.0-py3-none-any.whl.metadata (26 kB)\n",
            "Collecting dnspython>=2.0.0 (from email-validator>=2.0.0->pydantic[email]<3,>=2->sigstore-rekor-types==0.0.18->sigstore>=4.0->model_signing)\n",
            "  Downloading dnspython-2.8.0-py3-none-any.whl.metadata (5.7 kB)\n",
            "Downloading model_signing-1.1.1-py3-none-any.whl (73 kB)\n",
            "\u001b[2K   \u001b[90m━━━━━━━━━━━━━━━━━━━━━━━━━━━━━━━━━━━━━━━━\u001b[0m \u001b[32m73.3/73.3 kB\u001b[0m \u001b[31m3.7 MB/s\u001b[0m eta \u001b[36m0:00:00\u001b[0m\n",
            "\u001b[?25hDownloading sigstore-4.0.0-py3-none-any.whl (108 kB)\n",
            "\u001b[2K   \u001b[90m━━━━━━━━━━━━━━━━━━━━━━━━━━━━━━━━━━━━━━━━\u001b[0m \u001b[32m108.2/108.2 kB\u001b[0m \u001b[31m7.4 MB/s\u001b[0m eta \u001b[36m0:00:00\u001b[0m\n",
            "\u001b[?25hDownloading sigstore_models-0.0.5-py3-none-any.whl (13 kB)\n",
            "Downloading sigstore_rekor_types-0.0.18-py3-none-any.whl (20 kB)\n",
            "Downloading asn1crypto-1.5.1-py2.py3-none-any.whl (105 kB)\n",
            "\u001b[2K   \u001b[90m━━━━━━━━━━━━━━━━━━━━━━━━━━━━━━━━━━━━━━━━\u001b[0m \u001b[32m105.0/105.0 kB\u001b[0m \u001b[31m6.1 MB/s\u001b[0m eta \u001b[36m0:00:00\u001b[0m\n",
            "\u001b[?25hDownloading blake3-1.0.7-cp312-cp312-manylinux_2_17_x86_64.manylinux2014_x86_64.whl (387 kB)\n",
            "\u001b[2K   \u001b[90m━━━━━━━━━━━━━━━━━━━━━━━━━━━━━━━━━━━━━━━━\u001b[0m \u001b[32m387.9/387.9 kB\u001b[0m \u001b[31m16.2 MB/s\u001b[0m eta \u001b[36m0:00:00\u001b[0m\n",
            "\u001b[?25hDownloading in_toto_attestation-0.9.3-py3-none-any.whl (13 kB)\n",
            "Downloading id-1.5.0-py3-none-any.whl (13 kB)\n",
            "Downloading rfc3161_client-1.0.5-cp39-abi3-manylinux_2_17_x86_64.manylinux2014_x86_64.whl (2.1 MB)\n",
            "\u001b[2K   \u001b[90m━━━━━━━━━━━━━━━━━━━━━━━━━━━━━━━━━━━━━━━━\u001b[0m \u001b[32m2.1/2.1 MB\u001b[0m \u001b[31m58.7 MB/s\u001b[0m eta \u001b[36m0:00:00\u001b[0m\n",
            "\u001b[?25hDownloading rfc8785-0.1.4-py3-none-any.whl (9.2 kB)\n",
            "Downloading tuf-6.0.0-py3-none-any.whl (54 kB)\n",
            "\u001b[2K   \u001b[90m━━━━━━━━━━━━━━━━━━━━━━━━━━━━━━━━━━━━━━━━\u001b[0m \u001b[32m54.8/54.8 kB\u001b[0m \u001b[31m3.7 MB/s\u001b[0m eta \u001b[36m0:00:00\u001b[0m\n",
            "\u001b[?25hDownloading securesystemslib-1.3.1-py3-none-any.whl (871 kB)\n",
            "\u001b[2K   \u001b[90m━━━━━━━━━━━━━━━━━━━━━━━━━━━━━━━━━━━━━━━━\u001b[0m \u001b[32m871.4/871.4 kB\u001b[0m \u001b[31m38.1 MB/s\u001b[0m eta \u001b[36m0:00:00\u001b[0m\n",
            "\u001b[?25hDownloading email_validator-2.3.0-py3-none-any.whl (35 kB)\n",
            "Downloading dnspython-2.8.0-py3-none-any.whl (331 kB)\n",
            "\u001b[2K   \u001b[90m━━━━━━━━━━━━━━━━━━━━━━━━━━━━━━━━━━━━━━━━\u001b[0m \u001b[32m331.1/331.1 kB\u001b[0m \u001b[31m21.7 MB/s\u001b[0m eta \u001b[36m0:00:00\u001b[0m\n",
            "\u001b[?25hInstalling collected packages: asn1crypto, securesystemslib, rfc8785, in-toto-attestation, dnspython, blake3, tuf, id, email-validator, sigstore-models, rfc3161-client, sigstore-rekor-types, sigstore, model_signing\n",
            "Successfully installed asn1crypto-1.5.1 blake3-1.0.7 dnspython-2.8.0 email-validator-2.3.0 id-1.5.0 in-toto-attestation-0.9.3 model_signing-1.1.1 rfc3161-client-1.0.5 rfc8785-0.1.4 securesystemslib-1.3.1 sigstore-4.0.0 sigstore-models-0.0.5 sigstore-rekor-types-0.0.18 tuf-6.0.0\n"
          ]
        }
      ],
      "source": [
        "!pip install model_signing"
      ]
    },
    {
      "cell_type": "markdown",
      "metadata": {
        "id": "_gEUv3j_zIqy"
      },
      "source": [
        "### Obtaining some models\n",
        "\n",
        "To showcase the library, we will download a few models that we can use throughout the demo.\n",
        "\n",
        "First, to allow re-runing the notebook without restarting the kernel, we delete the models, in case they have been downloaded already."
      ]
    },
    {
      "cell_type": "code",
      "execution_count": 3,
      "metadata": {
        "id": "s88C9XjNzt2y"
      },
      "outputs": [],
      "source": [
        "!rm -rf bert-base-uncased"
      ]
    },
    {
      "cell_type": "code",
      "execution_count": 4,
      "metadata": {
        "id": "in8D6UcC6bag"
      },
      "outputs": [],
      "source": [
        "!rm -rf finbert"
      ]
    },
    {
      "cell_type": "code",
      "execution_count": 5,
      "metadata": {
        "id": "wsbOg9c_9_0z"
      },
      "outputs": [],
      "source": [
        "!rm -rf resnet-50"
      ]
    },
    {
      "cell_type": "code",
      "execution_count": 6,
      "metadata": {
        "id": "huSeeHjK_oGI"
      },
      "outputs": [],
      "source": [
        "!rm -rf vision-perceiver-learned"
      ]
    },
    {
      "cell_type": "markdown",
      "metadata": {
        "id": "NfHzayyBzyOY"
      },
      "source": [
        "Next, we obtain the models from the internet."
      ]
    },
    {
      "cell_type": "code",
      "execution_count": 7,
      "metadata": {
        "colab": {
          "base_uri": "https://localhost:8080/"
        },
        "id": "qOKf7pqtz09_",
        "outputId": "f83c72a1-fad5-402a-b471-2e4d76ab92d8"
      },
      "outputs": [
        {
          "output_type": "stream",
          "name": "stdout",
          "text": [
            "Cloning into 'bert-base-uncased'...\n",
            "remote: Enumerating objects: 24, done.\u001b[K\n",
            "remote: Counting objects: 100% (24/24), done.\u001b[K\n",
            "remote: Compressing objects: 100% (20/20), done.\u001b[K\n",
            "remote: Total 24 (delta 0), reused 24 (delta 0), pack-reused 0 (from 0)\u001b[K\n",
            "Unpacking objects: 100% (24/24), 324.36 KiB | 3.21 MiB/s, done.\n",
            "Filtering content: 100% (7/7), 3.21 GiB | 46.94 MiB/s, done.\n"
          ]
        }
      ],
      "source": [
        "!git clone --depth=1 \"https://huggingface.co/bert-base-uncased\""
      ]
    },
    {
      "cell_type": "code",
      "execution_count": 8,
      "metadata": {
        "id": "yZrSN05X6TXi",
        "colab": {
          "base_uri": "https://localhost:8080/"
        },
        "outputId": "e534920e-5bae-40bf-c402-822ff359cbb7"
      },
      "outputs": [
        {
          "output_type": "stream",
          "name": "stdout",
          "text": [
            "Cloning into 'finbert'...\n",
            "remote: Enumerating objects: 11, done.\u001b[K\n",
            "remote: Counting objects: 100% (11/11), done.\u001b[K\n",
            "remote: Compressing objects: 100% (11/11), done.\u001b[K\n",
            "remote: Total 11 (delta 0), reused 10 (delta 0), pack-reused 0 (from 0)\u001b[K\n",
            "Unpacking objects: 100% (11/11), 110.48 KiB | 6.90 MiB/s, done.\n",
            "Filtering content: 100% (3/3), 1.22 GiB | 38.97 MiB/s, done.\n"
          ]
        }
      ],
      "source": [
        "!git clone --depth=1 \"https://huggingface.co/ProsusAI/finbert\""
      ]
    },
    {
      "cell_type": "code",
      "execution_count": 9,
      "metadata": {
        "id": "KdwcDp2i-EZR",
        "colab": {
          "base_uri": "https://localhost:8080/"
        },
        "outputId": "38a9263e-4c6f-4cbc-e3d3-7e2853998a45"
      },
      "outputs": [
        {
          "output_type": "stream",
          "name": "stdout",
          "text": [
            "Cloning into 'resnet-50'...\n",
            "remote: Enumerating objects: 10, done.\u001b[K\n",
            "remote: Counting objects: 100% (10/10), done.\u001b[K\n",
            "remote: Compressing objects: 100% (10/10), done.\u001b[K\n",
            "remote: Total 10 (delta 0), reused 7 (delta 0), pack-reused 0 (from 0)\u001b[K\n",
            "Unpacking objects: 100% (10/10), 26.25 KiB | 5.25 MiB/s, done.\n",
            "Filtering content: 100% (4/4), 391.25 MiB | 65.04 MiB/s, done.\n"
          ]
        }
      ],
      "source": [
        "!git clone --depth=1 \"https://huggingface.co/microsoft/resnet-50\""
      ]
    },
    {
      "cell_type": "code",
      "execution_count": 10,
      "metadata": {
        "id": "H5tPZqJl_kWX",
        "colab": {
          "base_uri": "https://localhost:8080/"
        },
        "outputId": "76ddd646-3884-4024-ab8c-c719b7646cd0"
      },
      "outputs": [
        {
          "output_type": "stream",
          "name": "stdout",
          "text": [
            "Cloning into 'vision-perceiver-learned'...\n",
            "remote: Enumerating objects: 7, done.\u001b[K\n",
            "remote: Counting objects: 100% (7/7), done.\u001b[K\n",
            "remote: Compressing objects: 100% (7/7), done.\u001b[K\n",
            "remote: Total 7 (delta 0), reused 6 (delta 0), pack-reused 0 (from 0)\u001b[K\n",
            "Unpacking objects: 100% (7/7), 26.88 KiB | 6.72 MiB/s, done.\n"
          ]
        }
      ],
      "source": [
        "!git clone --depth=1 \"https://huggingface.co/deepmind/vision-perceiver-learned\""
      ]
    },
    {
      "cell_type": "markdown",
      "metadata": {
        "id": "fzWD0TO8z5Kn"
      },
      "source": [
        "Since we used `git clone` to download the models, we also have the `.git` directory associated with the repository. This is a directory which should not exist in the signature, so we can delete it."
      ]
    },
    {
      "cell_type": "code",
      "execution_count": 11,
      "metadata": {
        "id": "pMY6hMX_5-bw"
      },
      "outputs": [],
      "source": [
        "!rm -rf bert-base-uncased/.git"
      ]
    },
    {
      "cell_type": "code",
      "execution_count": 12,
      "metadata": {
        "id": "301gcUOM6dhw"
      },
      "outputs": [],
      "source": [
        "!rm -rf finbert/.git"
      ]
    },
    {
      "cell_type": "code",
      "execution_count": 13,
      "metadata": {
        "id": "uaaxpUGU_rzE"
      },
      "outputs": [],
      "source": [
        "!rm -rf resnet-50/.git"
      ]
    },
    {
      "cell_type": "code",
      "execution_count": 14,
      "metadata": {
        "id": "-9fs8xlq_tXk"
      },
      "outputs": [],
      "source": [
        "# NOTE: We don't remove the git directory from here! (no !rm -rf vision-perceiver-learned/.git)"
      ]
    },
    {
      "cell_type": "markdown",
      "metadata": {
        "id": "EGj-57Nj6CsY"
      },
      "source": [
        "Finally, we can compare the size of the downloaded models"
      ]
    },
    {
      "cell_type": "code",
      "execution_count": 15,
      "metadata": {
        "id": "zaSZpNQ86m9L",
        "colab": {
          "base_uri": "https://localhost:8080/"
        },
        "outputId": "c18361a3-0439-4574-f40b-c556cac61317"
      },
      "outputs": [
        {
          "output_type": "stream",
          "name": "stdout",
          "text": [
            "3.3G\tbert-base-uncased/\n",
            "1.3G\tfinbert/\n",
            "392M\tresnet-50/\n",
            "476M\tvision-perceiver-learned/\n"
          ]
        }
      ],
      "source": [
        "!du -sh bert-base-uncased/ finbert/ resnet-50/ vision-perceiver-learned/"
      ]
    },
    {
      "cell_type": "markdown",
      "metadata": {
        "id": "y2G3rDDv7T7e"
      },
      "source": [
        "## Model signing and verification using the CLI\n",
        "\n",
        "We can now use the `model_signing` package to sign and verify the integrity of models. We will demonstrate both the CLI and the API in this section.\n",
        "\n",
        "First, let's use `model_signing` as a CLI tool to sign and check the integrity of models."
      ]
    },
    {
      "cell_type": "markdown",
      "metadata": {
        "id": "k1mS5MdJDkRk"
      },
      "source": [
        "### Signing and verification with Sigstore\n",
        "\n",
        " Let's sign the `bert-base-uncased` model and sign using the default arguments:"
      ]
    },
    {
      "cell_type": "code",
      "execution_count": 16,
      "metadata": {
        "id": "f6XP7sgY71Sg",
        "colab": {
          "base_uri": "https://localhost:8080/"
        },
        "outputId": "9dcf146f-d5ee-412d-bbd5-6026ea3ad47b"
      },
      "outputs": [
        {
          "output_type": "stream",
          "name": "stdout",
          "text": [
            "Key a687e5bf4fab82b0ee58d46e05c9535145a2c9afb458f43d42b45ca0fdce2a70 failed to verify targets\n",
            "Go to the following link in a browser:\n",
            "\n",
            "\thttps://oauth2.sigstore.dev/auth/auth?response_type=code&client_id=sigstore&client_secret=&scope=openid+email&redirect_uri=urn%3Aietf%3Awg%3Aoauth%3A2.0%3Aoob&code_challenge=DuQYD8ynfHyvVTULWbqTXaf9uw6z_7ZnROE7f9gs2FQ&code_challenge_method=S256&state=04001c44-64e2-4c8c-ac05-5a1447f23f6f&nonce=0608e473-6ca5-448c-822c-64234e372a55\n",
            "Enter verification code: sqb3yw6bcrazibhvimyyw7jgw\n",
            "Signing succeeded\n"
          ]
        }
      ],
      "source": [
        "!model_signing sign bert-base-uncased"
      ]
    },
    {
      "cell_type": "markdown",
      "metadata": {
        "id": "B8N-KKBy-Pvy"
      },
      "source": [
        "During signing we were presented with an OIDC flow to obtain a token that represents the identity used during signing. The identity and the identity provider are arguments that we need to pass when we verify the signature."
      ]
    },
    {
      "cell_type": "code",
      "execution_count": 17,
      "metadata": {
        "id": "zXAZ6K0JAiD4"
      },
      "outputs": [],
      "source": [
        "identity = \"mihaimaruseac@google.com\" # @param {type:\"string\"}\n",
        "oidc_provider = \"https://github.com/login/oauth\" # @param {type:\"string\"}"
      ]
    },
    {
      "cell_type": "markdown",
      "metadata": {
        "id": "L2zQrDPnBDcu"
      },
      "source": [
        "By default, the signature is in `model.sig`. First, we can look at its size:"
      ]
    },
    {
      "cell_type": "code",
      "execution_count": 18,
      "metadata": {
        "id": "30qIzRIc-ho3",
        "colab": {
          "base_uri": "https://localhost:8080/"
        },
        "outputId": "c197c663-fbcf-4e93-d7bb-f31652cc09d2"
      },
      "outputs": [
        {
          "output_type": "stream",
          "name": "stdout",
          "text": [
            "-rw-r--r-- 1 root root 11345 Oct 10 18:00 model.sig\n"
          ]
        }
      ],
      "source": [
        "!ls -l model.sig"
      ]
    },
    {
      "cell_type": "markdown",
      "metadata": {
        "id": "-9VtRbu_-jJB"
      },
      "source": [
        "Next, before looking at the signature contents, let's try to also verify the model. Here we have to use the identity options used during signing:"
      ]
    },
    {
      "cell_type": "code",
      "execution_count": 19,
      "metadata": {
        "id": "OlqS69MvA8wm",
        "colab": {
          "base_uri": "https://localhost:8080/"
        },
        "outputId": "6f54370c-8023-4464-878a-e44f23cec7ec"
      },
      "outputs": [
        {
          "output_type": "stream",
          "name": "stdout",
          "text": [
            "Key a687e5bf4fab82b0ee58d46e05c9535145a2c9afb458f43d42b45ca0fdce2a70 failed to verify targets\n",
            "Verification succeeded\n"
          ]
        }
      ],
      "source": [
        "!model_signing verify bert-base-uncased --signature model.sig --identity \"$identity\" --identity_provider \"$oidc_provider\""
      ]
    },
    {
      "cell_type": "markdown",
      "metadata": {
        "id": "WWOqJzLpDv36"
      },
      "source": [
        "### Signing and verification using key-based cryptography\n",
        "\n",
        "The package also supports signing using traditional methods. We support signing with a private key (and verifying with the matching public key) or with a signing certificate. For this demo, let's try the example of a private key.\n",
        "\n",
        "We support a family of elliptic curve based keys, so let's generate a keypair:"
      ]
    },
    {
      "cell_type": "code",
      "execution_count": 20,
      "metadata": {
        "id": "LihWBiT2EI43"
      },
      "outputs": [],
      "source": [
        "!openssl ecparam -name prime256v1 -genkey -noout -out key"
      ]
    },
    {
      "cell_type": "markdown",
      "metadata": {
        "id": "jxxw6d07ElRZ"
      },
      "source": [
        "And the public key of the pair:"
      ]
    },
    {
      "cell_type": "code",
      "execution_count": 21,
      "metadata": {
        "id": "CHwDwmDAEgqE",
        "colab": {
          "base_uri": "https://localhost:8080/"
        },
        "outputId": "61ed7a12-7a28-4e6c-ed66-fb97b089d133"
      },
      "outputs": [
        {
          "output_type": "stream",
          "name": "stdout",
          "text": [
            "read EC key\n",
            "writing EC key\n"
          ]
        }
      ],
      "source": [
        "!openssl ec -in key -pubout > key.pub"
      ]
    },
    {
      "cell_type": "markdown",
      "metadata": {
        "id": "Uh74gkfEEpFC"
      },
      "source": [
        "Now we can sign a different model using the keys. We also save the signature in a different file."
      ]
    },
    {
      "cell_type": "code",
      "execution_count": 22,
      "metadata": {
        "id": "4rXixw_SEotr",
        "colab": {
          "base_uri": "https://localhost:8080/"
        },
        "outputId": "2bfbe5f3-b2c1-4615-9193-f9b8b21b5f44"
      },
      "outputs": [
        {
          "output_type": "stream",
          "name": "stdout",
          "text": [
            "Signing succeeded\n"
          ]
        }
      ],
      "source": [
        "!model_signing sign key resnet-50 --private_key key --signature resnet.sig"
      ]
    },
    {
      "cell_type": "markdown",
      "metadata": {
        "id": "vvk4jRMJFAPj"
      },
      "source": [
        "Signing succeeded, and we can look at the signature file:"
      ]
    },
    {
      "cell_type": "code",
      "execution_count": 23,
      "metadata": {
        "id": "9aGufo-CFF3Q",
        "colab": {
          "base_uri": "https://localhost:8080/"
        },
        "outputId": "c8f32c40-f71b-4c4b-a7be-f4a3101f813a"
      },
      "outputs": [
        {
          "output_type": "stream",
          "name": "stdout",
          "text": [
            "-rw-r--r-- 1 root root 2707 Oct 10 18:00 resnet.sig\n"
          ]
        }
      ],
      "source": [
        "!ls -l resnet.sig"
      ]
    },
    {
      "cell_type": "markdown",
      "metadata": {
        "id": "2F8NpUG-FIrJ"
      },
      "source": [
        "Next, we can verify the integrity of the model, using the paired public key:"
      ]
    },
    {
      "cell_type": "code",
      "execution_count": 24,
      "metadata": {
        "id": "IuQbYGm1FNIf",
        "colab": {
          "base_uri": "https://localhost:8080/"
        },
        "outputId": "c12ac87b-86c4-4c2d-e22c-439dd837bf4f"
      },
      "outputs": [
        {
          "output_type": "stream",
          "name": "stdout",
          "text": [
            "Verification succeeded\n"
          ]
        }
      ],
      "source": [
        "!model_signing verify key resnet-50 --signature resnet.sig --public_key key.pub"
      ]
    },
    {
      "cell_type": "markdown",
      "metadata": {
        "id": "DSozctBbFZ6E"
      },
      "source": [
        "### When integrity is compromised\n",
        "\n",
        "To conclude, let's look at the behavior when the integrity cannot be verified. For this demo, we will \"mistakenly\" use the signature for one model to verify the integrity of the other."
      ]
    },
    {
      "cell_type": "code",
      "execution_count": 25,
      "metadata": {
        "id": "4CAo7SyxF4MR",
        "colab": {
          "base_uri": "https://localhost:8080/"
        },
        "outputId": "3a656805-0b03-4fa7-ba98-83794523fbee"
      },
      "outputs": [
        {
          "output_type": "stream",
          "name": "stdout",
          "text": [
            "Key a687e5bf4fab82b0ee58d46e05c9535145a2c9afb458f43d42b45ca0fdce2a70 failed to verify targets\n",
            "Verification failed with error: Signature mismatch: [\"Extra files found in model 'resnet-50': preprocessor_config.json\", \"Missing files in model 'resnet-50': LICENSE, coreml/fill-mask/float32_model.mlpackage/Data/com.apple.CoreML/model.mlmodel, coreml/fill-mask/float32_model.mlpackage/Data/com.apple.CoreML/weights/weight.bin, coreml/fill-mask/float32_model.mlpackage/Manifest.json, model.onnx, rust_model.ot, tokenizer.json, tokenizer_config.json, vocab.txt\", 'Hash mismatch for \\'README.md\\': Expected \\'Digest(algorithm=\\'sha256\\', digest_value=b\\'\\\\x91\\\\x87\\\\xb6\\\\x01\\\\x8e\\\\xa0\\\\x01\\\\r\\\\x88Nx\\\\xe0\\\\x98\\\\xe3(\\\\xfa\\\\xa1\\\\xb8\\\\x8b0\\\\x15p\\\\xd0\\\\xcc\\\\xe6\\\\x06\\\\xbb5\\\\xe4\\\\x06~\\\\x17\\')\\', Actual \\'Digest(algorithm=\\'sha256\\', digest_value=b\\'\\\\x04\\\\xd0a\\\\x88\\\\x07\\\\x08\\\\xf0h9\\\\x99\\\\x82\\\\xdf&\\\\x8d\\\\xcb\\\\xf2l\"\\\\x18G\\\\xa3\\\\xfe\\\\\\\\ \\\\x05; \\\\x9a\\\\xf5\\\\x94\\\\xbd\\\\x04\\')\\'', \"Hash mismatch for 'config.json': Expected 'Digest(algorithm='sha256', digest_value=b'q`\\\\xe1U:\\\\xd2\\\\xcaQ\\\\xd8\\\\xc1\\\\xcb\\\\x06k\\\\xe53\\\\xdb1\\\\x82n\\\\x12\\\\xd1s\\\\x82L\\\\x1b\\\\xb0\\\\xcb\\\\x1aO\\\\x18} ')', Actual 'Digest(algorithm='sha256', digest_value=b'\\\\xa1\\\\xbe\\\\x0fV\\\\xd5\\\\x16\\\\xd0\\\\xb5_\\\\x98D\\\\xce\\\\x0f\\\\xbf\\\\xe5\\\\xfb5\\\\x91\\\\x95\\\\xcb\\\\xa6\\\\xc6\\\\xc1\\\\x02\\\\xd4\\\\x1a\\\\xe6\\\\xc2\\\\x02\\\\xc8M^')'\", \"Hash mismatch for 'flax_model.msgpack': Expected 'Digest(algorithm='sha256', digest_value=b'\\\\xea \\\\x1f\\\\xab\\\\xe4f\\\\xefq\\\\x82\\\\xf1\\\\xf6\\\\x87\\\\xfb[\\\\xe4\\\\xb6*s\\\\xd3\\\\xa7\\\\x88\\\\x83\\\\xf1\\\\x12d\\\\xff\\\\x7fh,\\\\xdbT\\\\xbf')', Actual 'Digest(algorithm='sha256', digest_value=b'\\\\x1d\\\\xba\\\\x01t\\\\xa5\\\\x96g1\\\\x17\\\\xb1K{\\\\x97\\\\xd2{\\\\xbf\\\\xef\\\\x19(\\\\xa9Cw\\\\xb1\\\\x8bL\\\\xb8I\\\\xb9\\\\xc8V\\\\x9b\\\\x90')'\", 'Hash mismatch for \\'model.safetensors\\': Expected \\'Digest(algorithm=\\'sha256\\', digest_value=b\"h\\\\xd4^#N\\\\xb4\\\\xa9(\\\\x07M\\\\xfd\\\\x86\\\\x8c\\\\xea\\\\xd0!\\\\x9a\\\\xb8ST\\\\xccS\\\\xd2\\\\x0ew\\'S\\\\xc6\\\\xbb\\\\x91i\\\\xd3\")\\', Actual \\'Digest(algorithm=\\'sha256\\', digest_value=b\\'\\\\x9c`a\\\\xaf\\\\x1fE\\\\x0b\\\\xb0\\\\x84~R\\\\x9f\\\\xd7B\\\\xaaPf\\\\x01{\\\\xe3y\\\\xc7\\\\x1b\\\\xbfUF\\\\xb1\\\\x98\\\\xe5\\\\xb1:\\\\x1e\\')\\'', \"Hash mismatch for 'pytorch_model.bin': Expected 'Digest(algorithm='sha256', digest_value=b'\\\\tt\\\\x178\\\\x1dlr0\\\\xbd\\\\x9e5WEmrm\\\\xe6\\\\xe82E\\\\xec\\\\x8b$\\\\xf5)\\\\xf6\\\\x01\\\\x98\\\\xa6{ :')', Actual 'Digest(algorithm='sha256', digest_value=b'\\\\xff\\\\x81c\\\\xa1233\\\\x12g\\\\x06\\\\xd6I\\\\xces\\\\xec\\\\xd7nE\\\\xd2A\\\\xb4-b=\\\\xealr6\\\\x90\\\\xca\\\\xfe\\\\x07')'\", 'Hash mismatch for \\'tf_model.h5\\': Expected \\'Digest(algorithm=\\'sha256\\', digest_value=b\\'\\\\xa7\\\\xa1}m\\\\x84K]\\\\xe8\\\\x15\\\\xcc\\\\xab_B\\\\xca\\\\xd6\\\\xd2D\\\\x96\\\\xdb8P\\\\xa2\\\\xa4=\\\\x82X\"\\\\x10\\\\x18\\\\xce\\\\x87\\\\xd2\\')\\', Actual \\'Digest(algorithm=\\'sha256\\', digest_value=b\\'W\\\\xaf\\\\xa6|\\\\xa9\\\\xf9\\\\xaa\\\\x16W\\\\xf3\\\\x8f\\\\x10\\\\x0f\\\\x8e\\\\\\\\\\\\x7f\\\\xc4\\\\x95P\\\\xda\\\\xfar&y;H\\\\xda\\\\xe4BoZi\\')\\'']\n"
          ]
        }
      ],
      "source": [
        "!model_signing verify resnet-50 --signature model.sig --identity \"$identity\" --identity_provider \"$oidc_provider\""
      ]
    },
    {
      "cell_type": "markdown",
      "metadata": {
        "id": "SAMIJgUeF9mX"
      },
      "source": [
        "Here we see that verification failed with some error regarding manifests not matching. We will discuss what this means in a later section. For now, let's see what happens when the identity itself is wrong."
      ]
    },
    {
      "cell_type": "code",
      "execution_count": 26,
      "metadata": {
        "id": "xku3dw6WGT9S",
        "colab": {
          "base_uri": "https://localhost:8080/"
        },
        "outputId": "9eb1957a-9404-430a-8c32-2e3962daae32"
      },
      "outputs": [
        {
          "output_type": "stream",
          "name": "stdout",
          "text": [
            "Key a687e5bf4fab82b0ee58d46e05c9535145a2c9afb458f43d42b45ca0fdce2a70 failed to verify targets\n",
            "Verification failed with error: Certificate's SANs do not match FAKE_IDENTITY; actual SANs: {'mihaimaruseac@google.com'}\n"
          ]
        }
      ],
      "source": [
        "!model_signing verify bert-base-uncased --signature model.sig --identity \"FAKE_IDENTITY\" --identity_provider \"$oidc_provider\""
      ]
    },
    {
      "cell_type": "markdown",
      "metadata": {
        "id": "FMh58_y6GeNh"
      },
      "source": [
        "The error message clearly specifies that we have passed the wrong identity.\n",
        "\n",
        "A similar error can occur when the identity provider is wrong:"
      ]
    },
    {
      "cell_type": "code",
      "execution_count": 27,
      "metadata": {
        "id": "VO5aOEk1Gasw",
        "colab": {
          "base_uri": "https://localhost:8080/"
        },
        "outputId": "a15c722d-6cfd-4935-d226-e63ff36ddf35"
      },
      "outputs": [
        {
          "output_type": "stream",
          "name": "stdout",
          "text": [
            "Key a687e5bf4fab82b0ee58d46e05c9535145a2c9afb458f43d42b45ca0fdce2a70 failed to verify targets\n",
            "Verification failed with error: Certificate's OIDCIssuer does not match (got 'https://github.com/login/oauth', expected 'FAKE_PROVIDER')\n"
          ]
        }
      ],
      "source": [
        "!model_signing verify bert-base-uncased --signature model.sig --identity \"$identity\" --identity_provider \"FAKE_PROVIDER\""
      ]
    },
    {
      "cell_type": "markdown",
      "metadata": {
        "id": "CGJ47Uy1GitN"
      },
      "source": [
        "Finally, we can look at what happens when a signature generated by one method is verified from another type of verification method:"
      ]
    },
    {
      "cell_type": "code",
      "execution_count": 28,
      "metadata": {
        "id": "5jVAajAYGwCq",
        "colab": {
          "base_uri": "https://localhost:8080/"
        },
        "outputId": "871f325a-d657-40ac-de4c-9c729b0c90cb"
      },
      "outputs": [
        {
          "output_type": "stream",
          "name": "stdout",
          "text": [
            "Key a687e5bf4fab82b0ee58d46e05c9535145a2c9afb458f43d42b45ca0fdce2a70 failed to verify targets\n",
            "Verification failed with error: expected certificate in bundle\n"
          ]
        }
      ],
      "source": [
        "!model_signing verify bert-base-uncased --signature resnet.sig --identity \"$identity\" --identity_provider \"$oidc_provider\""
      ]
    },
    {
      "cell_type": "markdown",
      "metadata": {
        "id": "x_R5kUFWG2F4"
      },
      "source": [
        "The signature cannot be parsed correctly, so nothing about it can be verified."
      ]
    },
    {
      "cell_type": "markdown",
      "metadata": {
        "id": "0Yzsh29JHAEt"
      },
      "source": [
        "## Powerful integrations via the API\n",
        "\n",
        "For more powerful integrations, we provide an API that can be used from any library. First, let's do some imports:"
      ]
    },
    {
      "cell_type": "code",
      "execution_count": 29,
      "metadata": {
        "id": "wEg5_JNfHNax"
      },
      "outputs": [],
      "source": [
        "import model_signing"
      ]
    },
    {
      "cell_type": "markdown",
      "metadata": {
        "id": "n8aXqfKeH99C"
      },
      "source": [
        "The API is split into 3 main components:\n",
        "\n",
        "- `model_signing.hashing`: responsible with generating a list of hashes for every component of the model. A component could be a file, a file shard, a tensor, etc., depending on the method used. We currently support only files and file shards. The result of hashing is a manifest, a listing of hashes for every object in the model.\n",
        "- `model_signing.signing`: responsible with taking the manifest and generating a signature, based on a signing configuration. The signing configuration can select the method used to sign as well as the parameters.\n",
        "- `model_signing.verifying`: responsible with taking a signature and verifying it. If the cryptographic parts of the signature can be validated, the verification layer would return an expanded manifest which can then be compared agains a manifest obtained from hashing the existing model. If the two manifest don't match then the model integrity was compromised and the `model_signing` package detected that.\n",
        "\n",
        "The first two of these components allows configurability but can also be used directly, with a default configuration. The only difference is for the verification component where we need to configure the verification method since there are no sensible defaults that can be used."
      ]
    },
    {
      "cell_type": "markdown",
      "metadata": {
        "id": "Jx15Q-yEHvay"
      },
      "source": [
        "### Signing and verification for a single model"
      ]
    },
    {
      "cell_type": "markdown",
      "metadata": {
        "id": "ccvZBpb8H4Zz"
      },
      "source": [
        "The default signing configuration hashes the model file by file and signs the manifest using Sigstore. Here, we sign the `finbert` model to generate the `finbert.sig` signature:"
      ]
    },
    {
      "cell_type": "code",
      "execution_count": 30,
      "metadata": {
        "id": "000iX3aaHvFZ",
        "colab": {
          "base_uri": "https://localhost:8080/"
        },
        "outputId": "7cdb6b60-687e-46f5-b205-98b5e910b653"
      },
      "outputs": [
        {
          "output_type": "stream",
          "name": "stderr",
          "text": [
            "Go to the following link in a browser:\n",
            "\n",
            "\thttps://oauth2.sigstore.dev/auth/auth?response_type=code&client_id=sigstore&client_secret=&scope=openid+email&redirect_uri=urn%3Aietf%3Awg%3Aoauth%3A2.0%3Aoob&code_challenge=FvFSw_KmXVezMBLTWcZC1RwcYctbyHwaATZrFQP9RyI&code_challenge_method=S256&state=6e5c7955-a48b-43dc-9752-233c6422163e&nonce=0c1e1ffb-8f31-47af-9fa5-fd1b3ac1f26a\n"
          ]
        },
        {
          "name": "stdout",
          "output_type": "stream",
          "text": [
            "Enter verification code: wwjgduj4imr6esduwz2yx4mja\n"
          ]
        }
      ],
      "source": [
        "model_signing.signing.sign(\"finbert\", \"finbert.sig\")"
      ]
    },
    {
      "cell_type": "markdown",
      "metadata": {
        "id": "MCISjwAHMnZ2"
      },
      "source": [
        "This does the OIDC flow again, so we need to pass the same parameters during verification."
      ]
    },
    {
      "cell_type": "code",
      "execution_count": 31,
      "metadata": {
        "id": "FWcZQB3xMuX3"
      },
      "outputs": [],
      "source": [
        "identity = \"mihaimaruseac@google.com\" # @param {type:\"string\"}\n",
        "oidc_provider = \"https://github.com/login/oauth\" # @param {type:\"string\"}"
      ]
    },
    {
      "cell_type": "markdown",
      "metadata": {
        "id": "nY2hxSUjMvUP"
      },
      "source": [
        "For verification there is no default configuration"
      ]
    },
    {
      "cell_type": "code",
      "execution_count": 32,
      "metadata": {
        "id": "BGXXp3UmM3o6"
      },
      "outputs": [],
      "source": [
        "model_signing.verifying.Config().use_sigstore_verifier(\n",
        "    identity=identity,\n",
        "    oidc_issuer=oidc_provider,\n",
        ").verify(\"finbert\", \"finbert.sig\")"
      ]
    },
    {
      "cell_type": "markdown",
      "metadata": {
        "id": "Nnunz9I-NM_F"
      },
      "source": [
        "Verification passed, as expected."
      ]
    },
    {
      "cell_type": "markdown",
      "metadata": {
        "id": "85_wuHMXNjW-"
      },
      "source": [
        "### Signing and verification with an explicit configuration\n",
        "\n",
        "The API of `model_signing` allows us to explictly set configurations for hashing, signing and verifying. For this section we look at how these can be used to control what paths to be excluded during serialization, and to set-up signing using private keys.\n",
        "\n",
        "From the 4 models we downloaded, we did not delete the `.git` directory of `vision-perceiver-learn` model. Instead, we will use configuration to explictly exclude it. We can also exclude other files from the model:"
      ]
    },
    {
      "cell_type": "code",
      "execution_count": 33,
      "metadata": {
        "id": "K2z5RuEWORpN",
        "colab": {
          "base_uri": "https://localhost:8080/"
        },
        "outputId": "db1ce143-64fd-4973-ae3c-4b454609b5d7"
      },
      "outputs": [
        {
          "output_type": "stream",
          "name": "stdout",
          "text": [
            ".   config.json  .gitattributes\t\t   pytorch_model.bin\n",
            "..  .git\t preprocessor_config.json  README.md\n"
          ]
        }
      ],
      "source": [
        "!ls -a vision-perceiver-learned/"
      ]
    },
    {
      "cell_type": "markdown",
      "metadata": {
        "id": "2rtjLLJLOUuF"
      },
      "source": [
        "First, we set up the hashing configuration, to exclude Git related files and the `README.md` file:"
      ]
    },
    {
      "cell_type": "code",
      "execution_count": 34,
      "metadata": {
        "id": "rPo6SZLLNMsk"
      },
      "outputs": [],
      "source": [
        "hashing_config = model_signing.hashing.Config().set_ignored_paths(\n",
        "    paths=[\"README.md\"], ignore_git_paths=True\n",
        ")"
      ]
    },
    {
      "cell_type": "markdown",
      "metadata": {
        "id": "sLa0sR95O4bW"
      },
      "source": [
        "Next, we configure a singing configuration to use the private key we generated above as well as the hashing configuration we just set up."
      ]
    },
    {
      "cell_type": "code",
      "execution_count": 35,
      "metadata": {
        "id": "V916DJNaO8kK"
      },
      "outputs": [],
      "source": [
        "signing_config = model_signing.signing.Config().use_elliptic_key_signer(\n",
        "    private_key=\"key\"\n",
        ").set_hashing_config(hashing_config)"
      ]
    },
    {
      "cell_type": "markdown",
      "metadata": {
        "id": "My1iEvmePRvj"
      },
      "source": [
        "And now, we can use this configuration to sign the model"
      ]
    },
    {
      "cell_type": "code",
      "execution_count": 36,
      "metadata": {
        "id": "37ym8uj0Q5kT"
      },
      "outputs": [],
      "source": [
        "signing_config.sign(\"vision-perceiver-learned\", \"vision-perceiver-learned.sig\")"
      ]
    },
    {
      "cell_type": "markdown",
      "metadata": {
        "id": "zoQD3kiLQ9qd"
      },
      "source": [
        "Similarly, we can construct the matching verification configuration and verify the signature:"
      ]
    },
    {
      "cell_type": "code",
      "execution_count": 37,
      "metadata": {
        "id": "R27fSZ0pREjD"
      },
      "outputs": [],
      "source": [
        "verification_config = model_signing.verifying.Config().use_elliptic_key_verifier(\n",
        "    public_key=\"key.pub\"\n",
        ").set_hashing_config(hashing_config)\n",
        "\n",
        "verification_config.verify(\"vision-perceiver-learned\", \"vision-perceiver-learned.sig\")"
      ]
    },
    {
      "cell_type": "markdown",
      "metadata": {
        "id": "WCLa3pKsRh3h"
      },
      "source": [
        "Verification passed."
      ]
    },
    {
      "cell_type": "markdown",
      "metadata": {
        "id": "QDEOTIUxRkvq"
      },
      "source": [
        "### Signing multiple models with the same configuration\n",
        "\n",
        "The power of explicit configurations is that a pipeline could set the configurations for hashing and signing once and then sign multiple models:"
      ]
    },
    {
      "cell_type": "code",
      "execution_count": 38,
      "metadata": {
        "id": "jEhy2i2kR4xZ"
      },
      "outputs": [],
      "source": [
        "config = model_signing.signing.Config().set_hashing_config(\n",
        "    model_signing.hashing.Config().use_shard_serialization()\n",
        ").use_elliptic_key_signer(private_key=\"key\")"
      ]
    },
    {
      "cell_type": "markdown",
      "metadata": {
        "id": "kjksFpeESHsx"
      },
      "source": [
        "Here we set up a hashing configuration to use file shards, and a signing configuration to sign using private keys. We can now use this configuration to sign all the models in a loop:"
      ]
    },
    {
      "cell_type": "code",
      "execution_count": 39,
      "metadata": {
        "id": "cRnu1j4xSD90"
      },
      "outputs": [],
      "source": [
        "all_models = [\"bert-base-uncased\", \"finbert\", \"resnet-50\", \"vision-perceiver-learned\"]\n",
        "for model in all_models:\n",
        "    config.sign(model, f\"{model}_sharded.sig\")"
      ]
    }
  ],
  "metadata": {
    "colab": {
      "provenance": [],
      "include_colab_link": true
    },
    "kernelspec": {
      "display_name": "Python 3",
      "name": "python3"
    },
    "language_info": {
      "name": "python"
    }
  },
  "nbformat": 4,
  "nbformat_minor": 0
}